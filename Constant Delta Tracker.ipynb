{
 "cells": [
  {
   "cell_type": "code",
   "execution_count": 1,
   "metadata": {},
   "outputs": [],
   "source": [
    "import os\n",
    "import pandas as pd\n",
    "from datetime import datetime"
   ]
  },
  {
   "cell_type": "code",
   "execution_count": 2,
   "metadata": {},
   "outputs": [
    {
     "name": "stdout",
     "output_type": "stream",
     "text": [
     
     ]
    }
   ],
   "source": [
    "# Define Directories\n",
    "working_dir = r'C:\\Users\\ACarrion\\OneDrive - F.lli De Cecco di Filippo Fara San Martino S.p.A\\Documents\\Inventory\\WH Inventory Reports\\Working_files'\n",
    "output_dir = r'C:\\Users\\ACarrion\\OneDrive - F.lli De Cecco di Filippo Fara San Martino S.p.A\\Documents\\Inventory\\WH Inventory Reports\\Reports'\n",
    "\n",
    "# Get current month and year\n",
    "current_date = datetime.now().strftime(\"%Y-%m-%d\")\n",
    "\n",
    "# Find the current month's files \n",
    "files = [f for f in os.listdir(working_dir) if f.endswith(\".xlsx\")]\n",
    "print(files)\n",
    "\n",
    "# Read and combine data\n",
    "all_data = []\n",
    "for file in files:\n",
    "    file_path = os.path.join(working_dir,file)\n",
    "    try:\n",
    "        df = pd.read_excel(file_path, dtype={'Batch': str})\n",
    "        df['Source File'] = file\n",
    "        all_data.append(df[['Source File','Plant', 'Storage Location', 'Material', 'Description', 'Batch', 'Qty_SAP', 'Qty_WH', 'Delta', 'QC Hold Qty PSS', 'Hold Reason ES3',\n",
    "                            'Manufacture Date', 'Critical Shelf Life Date', 'Expiration date', 'Number of Summers', 'Unit Value', 'Pallet number']])\n",
    "    except Exception as e:\n",
    "        print(f\"Failed to process {file}: {e}\")"
   ]
  },
  {
   "cell_type": "code",
   "execution_count": 5,
   "metadata": {},
   "outputs": [
    {
     "name": "stdout",
     "output_type": "stream",
     "text": [
      
     ]
    }
   ],
   "source": [
    "# Combine into single DataFrame\n",
    "if all_data:\n",
    "    combined_df = pd.concat(all_data, ignore_index=True)\n",
    "\n",
    "    # Group by key fields and find constant deltas\n",
    "    summary = (combined_df.groupby(['Plant', 'Storage Location', 'Material', 'Description', 'Batch'])\n",
    "                           .agg(Min_Delta = ('Delta', 'min'),\n",
    "                                Max_Delta = ('Delta', 'max' ),\n",
    "                                Occurances = ('Delta', 'count'))\n",
    "                           .reset_index())\n",
    "\n",
    "    # Filter for consistent deltas (min = max) appearing at least 3 times, excluding zero deltas\n",
    "    consistent_deltas = summary[\n",
    "        (summary['Min_Delta'] == summary['Max_Delta']) & # Delta is constant\n",
    "        (summary['Min_Delta'] != 0) &                    # Exclude zero deltas\n",
    "        (summary['Occurances'] >=3)                      # Appear in 3+ files\n",
    "    ]\n",
    "    # Ouput to Excel\n",
    "    output_file = os.path.join(output_dir, f\"constant_delta_report_{current_date}.xlsx\")\n",
    "    \n",
    "    # Create and Excel writer object\n",
    "    with pd.ExcelWriter(output_file, engine='openpyxl') as writer:\n",
    "        # Write the constan delta sheet\n",
    "        consistent_deltas.to_excel(writer, sheet_name=\"Constant Delta\", index=False)\n",
    "\n",
    "        # Write separate sheets per warehouse\n",
    "        for warehouse in ['BP01', 'BP02', 'BP04', 'BP07']:\n",
    "            warehouse_data = combined_df[combined_df['Plant'] == warehouse]\n",
    "            if not warehouse_data.empty:\n",
    "                warehouse_data = warehouse_data.sort_values(by='Material') # Sort by Material\n",
    "                warehouse_data.to_excel(writer, sheet_name=warehouse, index=False)\n",
    "\n",
    "    print(f\"Report generated: {output_file}\")\n",
    "else:\n",
    "    print(\"No data to process\")\n"
   ]
  }
 ],
 "metadata": {
  "kernelspec": {
   "display_name": "base",
   "language": "python",
   "name": "python3"
  },
  "language_info": {
   "codemirror_mode": {
    "name": "ipython",
    "version": 3
   },
   "file_extension": ".py",
   "mimetype": "text/x-python",
   "name": "python",
   "nbconvert_exporter": "python",
   "pygments_lexer": "ipython3",
   "version": "3.12.4"
  }
 },
 "nbformat": 4,
 "nbformat_minor": 2
}
